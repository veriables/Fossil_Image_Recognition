{
 "cells": [
  {
   "cell_type": "markdown",
   "metadata": {},
   "source": [
    "### Build the Fossil Identification model"
   ]
  },
  {
   "cell_type": "markdown",
   "metadata": {},
   "source": [
    "This script processes the labeled images of fossil specimens and uses them to train a Convolutional Neural Network (CNN) that can take (as input) an image of a fossil, then give (as output) the scientific name of that fossil."
   ]
  },
  {
   "cell_type": "markdown",
   "metadata": {},
   "source": [
    "### Imports"
   ]
  },
  {
   "cell_type": "code",
   "execution_count": 13,
   "metadata": {},
   "outputs": [],
   "source": [
    "import image_helpers as ih\n",
    "import os\n",
    "import datetime\n",
    "import pickle\n",
    "import shutil\n",
    "from pathlib import Path\n",
    "from PIL import Image, ImageOps\n",
    "import tensorflow as tf\n",
    "from tensorflow.keras.preprocessing.image import ImageDataGenerator\n",
    "from tensorflow.keras import Model\n",
    "from tensorflow.keras.applications.efficientnet import EfficientNetB1\n",
    "from tensorflow.keras.layers import BatchNormalization, GlobalAveragePooling2D, Dense\n",
    "from keras.callbacks import EarlyStopping, ModelCheckpoint\n",
    "\n",
    "import matplotlib.pyplot as plt\n",
    "%matplotlib inline\n"
   ]
  },
  {
   "cell_type": "markdown",
   "metadata": {},
   "source": [
    "### Preprocessing: Resize all input images"
   ]
  },
  {
   "cell_type": "markdown",
   "metadata": {},
   "source": [
    "The EfficientNetB1 model expects 224x224 images.  It will stretch/squeeze the images into that size.  This introduces distortions that make the classification task less accurate.\n",
    "\n",
    "To avoid those distortions, we will resize the images to the necessary 224x224 size while maintaining their aspect ratio."
   ]
  },
  {
   "cell_type": "code",
   "execution_count": 14,
   "metadata": {},
   "outputs": [],
   "source": [
    "# Create a temporary copy of the image data directory\n",
    "ih.createTemporaryDirectory('../image_data')\n",
    "\n",
    "# Iterate through all the files in the temp directory, opening them, resizing them\n",
    "# (while maintaining their aspect ratio), and then saving those resized images\n",
    "ih.resizeImagesInDirectory('../temp_image_data')\n",
    "\n",
    "# Set the data_dir to point to temp_image_data\n",
    "data_dir = '../temp_image_data'\n",
    "\n",
    "# Note: This temp_ directory will be removed at the end of this script \n",
    "# as a clean-up operation.\n"
   ]
  },
  {
   "cell_type": "markdown",
   "metadata": {},
   "source": [
    "### Set the input_shape and batch_size"
   ]
  },
  {
   "cell_type": "code",
   "execution_count": 15,
   "metadata": {},
   "outputs": [],
   "source": [
    "# EfficientNetB1 expects (224, 224)\n",
    "input_shape = (224,224)\n",
    "\n",
    "# Set the batch size to around 1/4 of the number of input files\n",
    "folder_names = [name for name in os.listdir(data_dir) if not name.startswith(\".\")]\n",
    "num_files = 0\n",
    "for n in folder_names:\n",
    "    num_files += len([name for name in os.listdir(data_dir + '/' + n) if not name.startswith(\".\")])\n",
    "batch_size = num_files // 4 + 1\n"
   ]
  },
  {
   "cell_type": "markdown",
   "metadata": {},
   "source": [
    "### Create training and validation set generators"
   ]
  },
  {
   "cell_type": "code",
   "execution_count": 16,
   "metadata": {},
   "outputs": [
    {
     "name": "stdout",
     "output_type": "stream",
     "text": [
      "Found 59 images belonging to 5 classes.\n",
      "Found 12 images belonging to 5 classes.\n"
     ]
    }
   ],
   "source": [
    "train_datagen = ImageDataGenerator(\n",
    "    rescale          = 1.0/255.0,\n",
    "    zoom_range       = 0.2,\n",
    "    rotation_range   = 5,\n",
    "    horizontal_flip  = True,\n",
    "    vertical_flip    = True,\n",
    "    validation_split = 0.20\n",
    ")\n",
    "\n",
    "train_generator = train_datagen.flow_from_directory(\n",
    "    data_dir,\n",
    "    target_size = input_shape,\n",
    "    batch_size  = batch_size,\n",
    "    class_mode  = 'categorical',\n",
    "    subset      = 'training'\n",
    ")\n",
    "\n",
    "validation_generator = train_datagen.flow_from_directory(\n",
    "    data_dir,\n",
    "    target_size = input_shape,\n",
    "    batch_size  = batch_size,\n",
    "    class_mode  = 'categorical',\n",
    "    subset      = 'validation'\n",
    ")\n"
   ]
  },
  {
   "cell_type": "markdown",
   "metadata": {},
   "source": [
    "### Save the labels for each class"
   ]
  },
  {
   "cell_type": "markdown",
   "metadata": {},
   "source": [
    "The labels (i.e., scientific names of each fossil in the training and validation dataset) are saved to a simple text file.  This \"mapping\" can then be passed on to any script that uses the trained model, so its outputs can be translated to actual fossil names."
   ]
  },
  {
   "cell_type": "code",
   "execution_count": 17,
   "metadata": {},
   "outputs": [],
   "source": [
    "# Extract the class names from train_generator\n",
    "label_map = sorted(train_generator.class_indices)\n",
    "\n",
    "# Save these labels into a file that can be opened\n",
    "# by any script that uses the trained model\n",
    "with open(\"../model/labels.txt\", \"wb\") as pf:\n",
    "    pickle.dump(label_map, pf)\n"
   ]
  },
  {
   "cell_type": "markdown",
   "metadata": {},
   "source": [
    "### Create an EfficientNetB1 model to use as a base for transfer learning"
   ]
  },
  {
   "cell_type": "code",
   "execution_count": 18,
   "metadata": {},
   "outputs": [],
   "source": [
    "EffNetB1 = EfficientNetB1(\n",
    "    weights = 'imagenet', \n",
    "    include_top = False\n",
    ")"
   ]
  },
  {
   "cell_type": "markdown",
   "metadata": {},
   "source": [
    "### Use GlobalAveragePooling"
   ]
  },
  {
   "cell_type": "markdown",
   "metadata": {},
   "source": [
    "The EfficientNetB7 output features are high-density.  Here we reduce that by averaging the values across each dimension.  By using averages rather than the actual values, we can speed up training and reduce the possibility of overfitting."
   ]
  },
  {
   "cell_type": "code",
   "execution_count": null,
   "metadata": {},
   "outputs": [],
   "source": [
    "GAP_output = GlobalAveragePooling2D()(EffNetB1.output)\n"
   ]
  },
  {
   "cell_type": "markdown",
   "metadata": {},
   "source": [
    "### Create a dense layer to represent the predictions"
   ]
  },
  {
   "cell_type": "code",
   "execution_count": null,
   "metadata": {},
   "outputs": [],
   "source": [
    "predictions = Dense(\n",
    "    len(train_generator.class_indices), \n",
    "    activation='softmax'\n",
    ")(GAP_output)\n"
   ]
  },
  {
   "cell_type": "markdown",
   "metadata": {},
   "source": [
    "### Complete the model definition"
   ]
  },
  {
   "cell_type": "code",
   "execution_count": 19,
   "metadata": {},
   "outputs": [],
   "source": [
    "model = Model(\n",
    "    inputs  = EffNetB1.input,\n",
    "    outputs = predictions\n",
    ")\n"
   ]
  },
  {
   "cell_type": "markdown",
   "metadata": {},
   "source": [
    "### Compile the model"
   ]
  },
  {
   "cell_type": "code",
   "execution_count": 20,
   "metadata": {},
   "outputs": [],
   "source": [
    "model.compile(\n",
    "    optimizer = 'adam',\n",
    "    loss      = 'categorical_crossentropy',\n",
    "    metrics   =  ['acc']\n",
    ")\n",
    "#model.summary()\n"
   ]
  },
  {
   "cell_type": "markdown",
   "metadata": {},
   "source": [
    "### Define callback functions"
   ]
  },
  {
   "cell_type": "code",
   "execution_count": 21,
   "metadata": {},
   "outputs": [],
   "source": [
    "# EarlyStopping will force the model to stop training once it has stopped improving \n",
    "# significantly for a given number of epochs.\n",
    "es = EarlyStopping(monitor='val_loss', mode='min', verbose=1, patience=50, min_delta=0.0001)\n",
    "\n",
    "# ModelCheckpoint will instruct the training process to keep a running copy of \n",
    "# the best model achieved as it progresses\n",
    "now = datetime.datetime.now()\n",
    "mc = ModelCheckpoint('../model/best_model_checkpoint_' + now.strftime(\"%Y-%m-%d-%H-%M\") + '.hdf5', monitor='val_acc', verbose=1, save_best_only=True, mode='max')\n"
   ]
  },
  {
   "cell_type": "markdown",
   "metadata": {},
   "source": [
    "### Train the model"
   ]
  },
  {
   "cell_type": "code",
   "execution_count": 22,
   "metadata": {},
   "outputs": [
    {
     "name": "stdout",
     "output_type": "stream",
     "text": [
      "Epoch 1/200\n",
      "4/4 [==============================] - 38s 8s/step - loss: 1.4618 - acc: 0.2851 - val_loss: 1.7138 - val_acc: 0.0833\n",
      "\n",
      "Epoch 00001: val_acc improved from -inf to 0.08333, saving model to ../model/best_model_checkpoint_2021-02-15-17-23.hdf5\n",
      "Epoch 2/200\n",
      "4/4 [==============================] - 23s 5s/step - loss: 0.5637 - acc: 0.9021 - val_loss: 1.8133 - val_acc: 0.0833\n",
      "\n",
      "Epoch 00002: val_acc did not improve from 0.08333\n",
      "Epoch 3/200\n",
      "4/4 [==============================] - 20s 5s/step - loss: 0.1614 - acc: 0.9545 - val_loss: 1.8833 - val_acc: 0.0000e+00\n",
      "\n",
      "Epoch 00003: val_acc did not improve from 0.08333\n",
      "Epoch 4/200\n",
      "4/4 [==============================] - 20s 5s/step - loss: 0.0899 - acc: 0.9932 - val_loss: 1.9941 - val_acc: 0.0000e+00\n",
      "\n",
      "Epoch 00004: val_acc did not improve from 0.08333\n",
      "Epoch 5/200\n",
      "4/4 [==============================] - 20s 5s/step - loss: 0.3325 - acc: 0.9068 - val_loss: 2.1969 - val_acc: 0.0000e+00\n",
      "\n",
      "Epoch 00005: val_acc did not improve from 0.08333\n",
      "Epoch 6/200\n",
      "4/4 [==============================] - 22s 5s/step - loss: 0.3658 - acc: 0.9151 - val_loss: 2.3688 - val_acc: 0.0000e+00\n",
      "\n",
      "Epoch 00006: val_acc did not improve from 0.08333\n",
      "Epoch 7/200\n",
      "4/4 [==============================] - 21s 5s/step - loss: 0.2050 - acc: 0.9501 - val_loss: 2.3209 - val_acc: 0.0000e+00\n",
      "\n",
      "Epoch 00007: val_acc did not improve from 0.08333\n",
      "Epoch 8/200\n",
      "4/4 [==============================] - 23s 5s/step - loss: 0.0970 - acc: 0.9748 - val_loss: 2.2817 - val_acc: 0.0000e+00\n",
      "\n",
      "Epoch 00008: val_acc did not improve from 0.08333\n",
      "Epoch 9/200\n",
      "4/4 [==============================] - 26s 8s/step - loss: 0.0801 - acc: 1.0000 - val_loss: 2.0972 - val_acc: 0.0000e+00\n",
      "\n",
      "Epoch 00009: val_acc did not improve from 0.08333\n",
      "Epoch 10/200\n",
      "4/4 [==============================] - 23s 5s/step - loss: 0.1094 - acc: 0.9531 - val_loss: 2.1054 - val_acc: 0.0000e+00\n",
      "\n",
      "Epoch 00010: val_acc did not improve from 0.08333\n",
      "Epoch 11/200\n",
      "4/4 [==============================] - 26s 5s/step - loss: 0.0909 - acc: 0.9895 - val_loss: 2.4213 - val_acc: 0.0000e+00\n",
      "\n",
      "Epoch 00011: val_acc did not improve from 0.08333\n",
      "Epoch 12/200\n",
      "4/4 [==============================] - 21s 5s/step - loss: 0.1234 - acc: 0.9297 - val_loss: 2.6957 - val_acc: 0.0000e+00\n",
      "\n",
      "Epoch 00012: val_acc did not improve from 0.08333\n",
      "Epoch 13/200\n",
      "4/4 [==============================] - 21s 6s/step - loss: 0.1360 - acc: 0.9476 - val_loss: 2.8519 - val_acc: 0.0000e+00\n",
      "\n",
      "Epoch 00013: val_acc did not improve from 0.08333\n",
      "Epoch 14/200\n",
      "4/4 [==============================] - 21s 6s/step - loss: 0.2837 - acc: 0.8873 - val_loss: 2.8572 - val_acc: 0.0833\n",
      "\n",
      "Epoch 00014: val_acc did not improve from 0.08333\n",
      "Epoch 15/200\n",
      "4/4 [==============================] - 24s 6s/step - loss: 0.2983 - acc: 0.9539 - val_loss: 2.5220 - val_acc: 0.3333\n",
      "\n",
      "Epoch 00015: val_acc improved from 0.08333 to 0.33333, saving model to ../model/best_model_checkpoint_2021-02-15-17-23.hdf5\n",
      "Epoch 16/200\n",
      "4/4 [==============================] - 23s 5s/step - loss: 0.1178 - acc: 0.9728 - val_loss: 2.5961 - val_acc: 0.3333\n",
      "\n",
      "Epoch 00016: val_acc did not improve from 0.33333\n",
      "Epoch 17/200\n",
      "4/4 [==============================] - 21s 5s/step - loss: 0.2180 - acc: 0.9595 - val_loss: 2.6241 - val_acc: 0.3333\n",
      "\n",
      "Epoch 00017: val_acc did not improve from 0.33333\n",
      "Epoch 18/200\n",
      "4/4 [==============================] - 21s 5s/step - loss: 0.1085 - acc: 0.9685 - val_loss: 2.7222 - val_acc: 0.0833\n",
      "\n",
      "Epoch 00018: val_acc did not improve from 0.33333\n",
      "Epoch 19/200\n",
      "4/4 [==============================] - 21s 5s/step - loss: 0.4202 - acc: 0.9126 - val_loss: 4.0798 - val_acc: 0.0833\n",
      "\n",
      "Epoch 00019: val_acc did not improve from 0.33333\n",
      "Epoch 20/200\n",
      "4/4 [==============================] - 25s 8s/step - loss: 0.1989 - acc: 0.9193 - val_loss: 3.0042 - val_acc: 0.0833\n",
      "\n",
      "Epoch 00020: val_acc did not improve from 0.33333\n",
      "Epoch 21/200\n",
      "4/4 [==============================] - 22s 7s/step - loss: 0.3941 - acc: 0.8676 - val_loss: 2.5270 - val_acc: 0.0000e+00\n",
      "\n",
      "Epoch 00021: val_acc did not improve from 0.33333\n",
      "Epoch 22/200\n",
      "4/4 [==============================] - 24s 7s/step - loss: 1.2185 - acc: 0.7026 - val_loss: 2.6108 - val_acc: 0.0000e+00\n",
      "\n",
      "Epoch 00022: val_acc did not improve from 0.33333\n",
      "Epoch 23/200\n",
      "4/4 [==============================] - 21s 5s/step - loss: 0.2623 - acc: 0.9149 - val_loss: 2.7015 - val_acc: 0.0000e+00\n",
      "\n",
      "Epoch 00023: val_acc did not improve from 0.33333\n",
      "Epoch 24/200\n",
      "4/4 [==============================] - 22s 5s/step - loss: 0.5648 - acc: 0.8581 - val_loss: 2.5249 - val_acc: 0.0000e+00\n",
      "\n",
      "Epoch 00024: val_acc did not improve from 0.33333\n",
      "Epoch 25/200\n",
      "4/4 [==============================] - 21s 5s/step - loss: 0.1683 - acc: 0.9624 - val_loss: 2.6761 - val_acc: 0.0000e+00\n",
      "\n",
      "Epoch 00025: val_acc did not improve from 0.33333\n",
      "Epoch 26/200\n",
      "4/4 [==============================] - 21s 5s/step - loss: 0.1300 - acc: 0.9317 - val_loss: 2.7265 - val_acc: 0.0000e+00\n",
      "\n",
      "Epoch 00026: val_acc did not improve from 0.33333\n",
      "Epoch 27/200\n",
      "4/4 [==============================] - 22s 7s/step - loss: 0.1334 - acc: 0.9612 - val_loss: 2.7475 - val_acc: 0.0000e+00\n",
      "\n",
      "Epoch 00027: val_acc did not improve from 0.33333\n",
      "Epoch 28/200\n",
      "4/4 [==============================] - 20s 5s/step - loss: 0.0380 - acc: 1.0000 - val_loss: 2.6990 - val_acc: 0.0000e+00\n",
      "\n",
      "Epoch 00028: val_acc did not improve from 0.33333\n",
      "Epoch 29/200\n",
      "4/4 [==============================] - 20s 6s/step - loss: 0.0843 - acc: 0.9680 - val_loss: 2.6397 - val_acc: 0.0000e+00\n",
      "\n",
      "Epoch 00029: val_acc did not improve from 0.33333\n",
      "Epoch 30/200\n",
      "4/4 [==============================] - 20s 5s/step - loss: 0.1021 - acc: 0.9797 - val_loss: 2.5020 - val_acc: 0.0000e+00\n",
      "\n",
      "Epoch 00030: val_acc did not improve from 0.33333\n",
      "Epoch 31/200\n",
      "4/4 [==============================] - 20s 6s/step - loss: 0.2557 - acc: 0.9193 - val_loss: 2.3922 - val_acc: 0.0000e+00\n",
      "\n",
      "Epoch 00031: val_acc did not improve from 0.33333\n",
      "Epoch 32/200\n",
      "4/4 [==============================] - 20s 5s/step - loss: 0.0438 - acc: 0.9883 - val_loss: 2.5827 - val_acc: 0.0000e+00\n",
      "\n",
      "Epoch 00032: val_acc did not improve from 0.33333\n",
      "Epoch 33/200\n",
      "4/4 [==============================] - 20s 5s/step - loss: 0.0862 - acc: 0.9864 - val_loss: 2.8887 - val_acc: 0.0000e+00\n",
      "\n",
      "Epoch 00033: val_acc did not improve from 0.33333\n",
      "Epoch 34/200\n",
      "4/4 [==============================] - 21s 5s/step - loss: 0.2111 - acc: 0.8964 - val_loss: 4.6860 - val_acc: 0.0833\n",
      "\n",
      "Epoch 00034: val_acc did not improve from 0.33333\n",
      "Epoch 35/200\n",
      "4/4 [==============================] - 20s 5s/step - loss: 0.0659 - acc: 1.0000 - val_loss: 6.3084 - val_acc: 0.0833\n",
      "\n",
      "Epoch 00035: val_acc did not improve from 0.33333\n",
      "Epoch 36/200\n",
      "4/4 [==============================] - 20s 5s/step - loss: 0.0313 - acc: 1.0000 - val_loss: 6.9473 - val_acc: 0.0833\n",
      "\n",
      "Epoch 00036: val_acc did not improve from 0.33333\n",
      "Epoch 37/200\n",
      "4/4 [==============================] - 20s 5s/step - loss: 0.0852 - acc: 0.9883 - val_loss: 6.2988 - val_acc: 0.0833\n",
      "\n",
      "Epoch 00037: val_acc did not improve from 0.33333\n",
      "Epoch 38/200\n",
      "4/4 [==============================] - 22s 5s/step - loss: 0.0455 - acc: 1.0000 - val_loss: 5.2808 - val_acc: 0.0000e+00\n",
      "\n",
      "Epoch 00038: val_acc did not improve from 0.33333\n",
      "Epoch 39/200\n",
      "4/4 [==============================] - 20s 6s/step - loss: 0.1543 - acc: 0.9680 - val_loss: 5.0812 - val_acc: 0.0000e+00\n",
      "\n",
      "Epoch 00039: val_acc did not improve from 0.33333\n",
      "Epoch 40/200\n",
      "4/4 [==============================] - 20s 6s/step - loss: 0.3557 - acc: 0.8454 - val_loss: 3.6850 - val_acc: 0.0000e+00\n",
      "\n",
      "Epoch 00040: val_acc did not improve from 0.33333\n",
      "Epoch 41/200\n",
      "4/4 [==============================] - 21s 5s/step - loss: 0.0330 - acc: 1.0000 - val_loss: 2.3420 - val_acc: 0.0000e+00\n",
      "\n",
      "Epoch 00041: val_acc did not improve from 0.33333\n",
      "Epoch 42/200\n",
      "4/4 [==============================] - 20s 5s/step - loss: 0.0275 - acc: 1.0000 - val_loss: 2.3188 - val_acc: 0.0000e+00\n",
      "\n",
      "Epoch 00042: val_acc did not improve from 0.33333\n",
      "Epoch 43/200\n",
      "4/4 [==============================] - 21s 5s/step - loss: 0.2555 - acc: 0.9371 - val_loss: 2.2547 - val_acc: 0.0000e+00\n",
      "\n",
      "Epoch 00043: val_acc did not improve from 0.33333\n",
      "Epoch 44/200\n",
      "4/4 [==============================] - 22s 7s/step - loss: 0.0312 - acc: 0.9883 - val_loss: 2.2249 - val_acc: 0.0000e+00\n",
      "\n",
      "Epoch 00044: val_acc did not improve from 0.33333\n",
      "Epoch 45/200\n"
     ]
    },
    {
     "name": "stdout",
     "output_type": "stream",
     "text": [
      "4/4 [==============================] - 29s 6s/step - loss: 0.0386 - acc: 1.0000 - val_loss: 2.2959 - val_acc: 0.0000e+00\n",
      "\n",
      "Epoch 00045: val_acc did not improve from 0.33333\n",
      "Epoch 46/200\n",
      "4/4 [==============================] - 29s 6s/step - loss: 0.0399 - acc: 0.9883 - val_loss: 1.8532 - val_acc: 0.0000e+00\n",
      "\n",
      "Epoch 00046: val_acc did not improve from 0.33333\n",
      "Epoch 47/200\n",
      "4/4 [==============================] - 28s 9s/step - loss: 0.9243 - acc: 0.8356 - val_loss: 2.3301 - val_acc: 0.0000e+00\n",
      "\n",
      "Epoch 00047: val_acc did not improve from 0.33333\n",
      "Epoch 48/200\n",
      "4/4 [==============================] - 25s 6s/step - loss: 0.1969 - acc: 0.9452 - val_loss: 3.9341 - val_acc: 0.0000e+00\n",
      "\n",
      "Epoch 00048: val_acc did not improve from 0.33333\n",
      "Epoch 49/200\n",
      "4/4 [==============================] - 22s 5s/step - loss: 0.0410 - acc: 1.0000 - val_loss: 5.7944 - val_acc: 0.0000e+00\n",
      "\n",
      "Epoch 00049: val_acc did not improve from 0.33333\n",
      "Epoch 50/200\n",
      "4/4 [==============================] - 20s 6s/step - loss: 0.2323 - acc: 0.8473 - val_loss: 5.6954 - val_acc: 0.0000e+00\n",
      "\n",
      "Epoch 00050: val_acc did not improve from 0.33333\n",
      "Epoch 51/200\n",
      "4/4 [==============================] - 23s 6s/step - loss: 0.0221 - acc: 1.0000 - val_loss: 4.9866 - val_acc: 0.0000e+00\n",
      "\n",
      "Epoch 00051: val_acc did not improve from 0.33333\n",
      "Epoch 00051: early stopping\n"
     ]
    }
   ],
   "source": [
    "history = model.fit(\n",
    "    x                = train_generator,\n",
    "    callbacks        = [es, mc],\n",
    "    validation_data  = validation_generator,\n",
    "    steps_per_epoch  = train_generator.samples // batch_size + 1,\n",
    "    validation_steps = validation_generator.samples // batch_size + 1,\n",
    "    workers          = 8,\n",
    "    max_queue_size   = 16,\n",
    "    epochs           = 200,\n",
    "    verbose          = 1\n",
    ")\n"
   ]
  },
  {
   "cell_type": "markdown",
   "metadata": {},
   "source": [
    "### Display the Accuracy and Loss statistics"
   ]
  },
  {
   "cell_type": "code",
   "execution_count": 23,
   "metadata": {},
   "outputs": [
    {
     "data": {
      "image/png": "[encoded data removed]",
      "text/plain": [
       "<Figure size 432x288 with 1 Axes>"
      ]
     },
     "metadata": {
      "needs_background": "light"
     },
     "output_type": "display_data"
    },
    {
     "data": {
      "image/png": "[encoded data removed]",
      "text/plain": [
       "<Figure size 432x288 with 1 Axes>"
      ]
     },
     "metadata": {
      "needs_background": "light"
     },
     "output_type": "display_data"
    }
   ],
   "source": [
    "# Accuracy statistics\n",
    "plt.plot(history.history['acc'])\n",
    "plt.plot(history.history['val_acc'])\n",
    "plt.title('Accuracy')\n",
    "plt.ylabel('Accuracy')\n",
    "plt.xlabel('Training Epoch')\n",
    "plt.legend(['Train', 'Test'], loc='lower right')\n",
    "plt.show()\n",
    "\n",
    "# Loss statistics\n",
    "plt.plot(history.history['loss'])\n",
    "plt.plot(history.history['val_loss'])\n",
    "plt.title('Loss')\n",
    "plt.ylabel('loss')\n",
    "plt.xlabel('epoch')\n",
    "plt.legend(['train', 'test'], loc='lower right')\n",
    "plt.show()\n"
   ]
  },
  {
   "cell_type": "markdown",
   "metadata": {},
   "source": [
    "### Clean up the temp_image_data folder"
   ]
  },
  {
   "cell_type": "code",
   "execution_count": 24,
   "metadata": {},
   "outputs": [],
   "source": [
    "ih.removeTemporaryDirectory('../temp_image_data')\n"
   ]
  }
 ],
 "metadata": {
  "kernelspec": {
   "display_name": "Python 3",
   "language": "python",
   "name": "python3"
  },
  "language_info": {
   "codemirror_mode": {
    "name": "ipython",
    "version": 3
   },
   "file_extension": ".py",
   "mimetype": "text/x-python",
   "name": "python",
   "nbconvert_exporter": "python",
   "pygments_lexer": "ipython3",
   "version": "3.7.4"
  }
 },
 "nbformat": 4,
 "nbformat_minor": 2
}
