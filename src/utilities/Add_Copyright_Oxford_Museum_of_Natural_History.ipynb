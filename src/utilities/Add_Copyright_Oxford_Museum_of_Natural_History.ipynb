{
 "cells": [
  {
   "cell_type": "markdown",
   "metadata": {},
   "source": [
    "### Add Oxford Museum of Natural History copyright acknowledgement"
   ]
  },
  {
   "cell_type": "markdown",
   "metadata": {},
   "source": [
    "This script tags each image in a given directory with the following copyright acknowledgement:\n",
    "\n",
    "**Acknowledgement: © Oxford University Museum of Natural History**"
   ]
  },
  {
   "cell_type": "markdown",
   "metadata": {},
   "source": [
    "### Imports"
   ]
  },
  {
   "cell_type": "code",
   "execution_count": 11,
   "metadata": {},
   "outputs": [],
   "source": [
    "from PIL import Image\n",
    "from PIL import ImageFont\n",
    "from PIL import ImageDraw \n",
    "from os import walk\n"
   ]
  },
  {
   "cell_type": "markdown",
   "metadata": {},
   "source": [
    "### Set Parameters"
   ]
  },
  {
   "cell_type": "code",
   "execution_count": 12,
   "metadata": {},
   "outputs": [],
   "source": [
    "# Set the directory which contains the original images which\n",
    "# need to be tagged with this copyright acknowledgement\n",
    "input_images_dir  = '../../test/fusus_ficulneus'\n",
    "#input_images_dir  = '../image_data/fusus_uniplicatus'\n",
    "\n",
    "# Set the directory into which the tagged images will be saved\n",
    "# Usually this will be the same as the input directory so the \n",
    "# original images are overwritten with their tagged versions\n",
    "output_images_dir = '../../test/tagged_fusus_ficulneus'\n",
    "# For testing though, you may wish to use a different directory\n",
    "#output_images_dir = '../copyrighted_image_data/fusus_uniplicatus'\n"
   ]
  },
  {
   "cell_type": "markdown",
   "metadata": {},
   "source": [
    "### Create a FossilImage class"
   ]
  },
  {
   "cell_type": "code",
   "execution_count": 13,
   "metadata": {},
   "outputs": [],
   "source": [
    "class FossilImage:\n",
    "    def __init__(self, image_directory, image_filename):\n",
    "        self.directory = image_directory\n",
    "        self.filename = image_filename\n",
    "        ## Set the font_size for the copyright banner\n",
    "        self.font_size = 10\n",
    "        ## Set the font to be used in the copyright banner\n",
    "        self.banner_font = ImageFont.truetype(\"../../assets/OpenSans.ttf\", self.font_size)\n",
    "        ## Set the bottom position for the text within the banner image\n",
    "        self.banner_bottom_line_offset = 16\n",
    "        ## Set the spacing between text lines within the banner image\n",
    "        self.line_space_offset = 12\n",
    "        self.image = Image.open(image_directory + '/' + image_filename)\n",
    "        self.width, self.height = self.image.size\n",
    "        self.ensureMinimumSize()\n",
    "        self.setBannerSizeAndText()\n",
    "        self.banner_width = self.width\n",
    "        self.tagged_image = None\n",
    "        self.createTaggedImage()\n",
    "        \n",
    "    def ensureMinimumSize(self):\n",
    "        '''\n",
    "        Given an image that is smaller than 144 pixels wide, \n",
    "        resize it to at least 144 pixels wide while \n",
    "        maintaining its aspect ratio.  This is desirable in \n",
    "        order to use copyright text in the 10 point font \n",
    "        size which is the minimum font size which renders \n",
    "        cleanly.\n",
    "        '''\n",
    "        if self.width < 144:\n",
    "            new_size_width = 144\n",
    "            new_size_height = int(round((self.height * 144) / self.width))\n",
    "            new_size = (new_size_width, new_size_height)\n",
    "            self.image = self.image.resize(new_size, Image.BICUBIC)\n",
    "            self.width, self.height = self.image.size\n",
    "\n",
    "    def setBannerSizeAndText(self):\n",
    "        '''\n",
    "        Given an image, find its width and use that to decide how\n",
    "        many lines will be needed to write out the copyright \n",
    "        acknowledgement text.  Then, return those lines of text in\n",
    "        an array.\n",
    "        '''\n",
    "        if self.width < 200: # 3 lines\n",
    "            self.text_lines = [\n",
    "                ' Acknowledgement:',\n",
    "                ' © Oxford University',\n",
    "                ' Museum of Natural History'\n",
    "            ]\n",
    "            self.banner_height = 38\n",
    "\n",
    "        elif self.width < 600:\n",
    "            self.text_lines = [\n",
    "                ' Acknowledgement: © Oxford University',\n",
    "                ' Museum of Natural History'\n",
    "            ]\n",
    "            self.banner_height = 28\n",
    "        else:\n",
    "            self.text_lines = [\n",
    "                ' Acknowledgement: © Oxford University Museum of Natural History'\n",
    "            ]\n",
    "            self.banner_height = 16\n",
    "\n",
    "    def createTaggedImage(self):\n",
    "        '''\n",
    "        Perfom all the steps necessary to add the copyright\n",
    "        acknowledgment to the image\n",
    "        '''\n",
    "        bottom_line_offset = 12\n",
    "        # Create a new image for the banner\n",
    "        banner_image = Image.new('1', (self.banner_width, self.banner_height))\n",
    "        banner_drawing = ImageDraw.Draw(banner_image)\n",
    "        \n",
    "        # Add copyright to the banner image\n",
    "        counter = len(self.text_lines) - 1\n",
    "        for line in self.text_lines:\n",
    "            this_line_offset = self.banner_bottom_line_offset + (counter * self.line_space_offset)\n",
    "            banner_drawing.text(\n",
    "                (0, self.banner_height - this_line_offset),\n",
    "                line,\n",
    "                font = self.banner_font,\n",
    "                fill = 1\n",
    "            )\n",
    "            counter -=1\n",
    "        \n",
    "        # Create a new image \"canvas\" to concantenate the original image with the banner image\n",
    "        tagged_image = Image.new('RGB', (self.width, self.height + self.banner_height))\n",
    "\n",
    "        # Paste the original image onto the finished image \"canvas\"\n",
    "        tagged_image.paste(self.image, (0, 0))\n",
    "\n",
    "        # Paste the banner onto the finished image \"canvas\" underneath the original image\n",
    "        tagged_image.paste(banner_image, (0, self.height))\n",
    "        \n",
    "        # Set the new image into the tagged_image property\n",
    "        self.tagged_image = tagged_image\n",
    "    \n",
    "        "
   ]
  },
  {
   "cell_type": "markdown",
   "metadata": {},
   "source": [
    "### Functions"
   ]
  },
  {
   "cell_type": "code",
   "execution_count": 14,
   "metadata": {},
   "outputs": [],
   "source": [
    "def getListOfFiles(directory):\n",
    "    '''\n",
    "    Given a directory name, return a list of all the files\n",
    "    within that directory or any subdirectories.\n",
    "    '''\n",
    "    files = []\n",
    "    for (dirpath, dirnames, filenames) in walk(directory):\n",
    "        files.extend(filenames)\n",
    "        break\n",
    "    # Remove any hidden files from the list\n",
    "    for f in files:\n",
    "        if f.startswith('.'):\n",
    "            files.remove(f)\n",
    "    # Return the list of files\n",
    "    return files\n"
   ]
  },
  {
   "cell_type": "markdown",
   "metadata": {},
   "source": [
    "### Add the copyright banner to each image file"
   ]
  },
  {
   "cell_type": "code",
   "execution_count": 15,
   "metadata": {},
   "outputs": [],
   "source": [
    "# Get the list of fossil image files from the input_images_dir\n",
    "# specified in the Parameters section above.\n",
    "files = getListOfFiles(input_images_dir)\n",
    "\n",
    "# For each fossil image file, add the copyright banner, then save \n",
    "# the finished image in the output_images_dir specified in the\n",
    "# Parameters section above.\n",
    "for file_name in files:\n",
    "    \n",
    "    fosImg = FossilImage(input_images_dir, file_name)\n",
    "    \n",
    "    # Show the finished image (optional)\n",
    "    #fosImg.tagged_image.show()\n",
    "\n",
    "    ## Save the finished image\n",
    "    file_name_without_ext = file_name[:-4]\n",
    "    fosImg.tagged_image.save(output_images_dir + '/' + file_name_without_ext + '.png')\n"
   ]
  },
  {
   "cell_type": "code",
   "execution_count": null,
   "metadata": {},
   "outputs": [],
   "source": []
  }
 ],
 "metadata": {
  "kernelspec": {
   "display_name": "Python 3",
   "language": "python",
   "name": "python3"
  },
  "language_info": {
   "codemirror_mode": {
    "name": "ipython",
    "version": 3
   },
   "file_extension": ".py",
   "mimetype": "text/x-python",
   "name": "python",
   "nbconvert_exporter": "python",
   "pygments_lexer": "ipython3",
   "version": "3.7.4"
  }
 },
 "nbformat": 4,
 "nbformat_minor": 2
}
